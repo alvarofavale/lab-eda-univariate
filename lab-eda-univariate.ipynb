{
 "cells": [
  {
   "cell_type": "markdown",
   "id": "fc4c3d1f-ac63-441f-843b-8948f91d4871",
   "metadata": {},
   "source": [
    "# Lab - EDA Univariate Analysis: Diving into Amazon UK Product Insights\n"
   ]
  },
  {
   "cell_type": "code",
   "execution_count": 115,
   "id": "05baa488-75c3-4264-8a23-b7d33e01bdca",
   "metadata": {},
   "outputs": [],
   "source": [
    "import pandas as pd\n",
    "import os\n",
    "import glob\n",
    "import numpy as np\n",
    "from matplotlib import pyplot as plt\n",
    "import seaborn as sns\n",
    "from scipy.stats import skew, kurtosis"
   ]
  },
  {
   "cell_type": "markdown",
   "id": "55836708-9dcf-424b-ab21-d8a3880d8e49",
   "metadata": {},
   "source": [
    "**PART 1:** Understanding Product Categories"
   ]
  },
  {
   "cell_type": "code",
   "execution_count": null,
   "id": "8c0a5d57-124d-4919-9915-7460c036ee25",
   "metadata": {},
   "outputs": [],
   "source": [
    "df = pd.read_csv('C:/Users/faval/Desktop/Ironhack/DataAnalytics/week5/day1/lab-eda-univariate/amz_uk_price_prediction_dataset.csv')"
   ]
  },
  {
   "cell_type": "code",
   "execution_count": 47,
   "id": "31afb264-78da-4d91-b06f-f32929666683",
   "metadata": {},
   "outputs": [
    {
     "data": {
      "text/html": [
       "<div>\n",
       "<style scoped>\n",
       "    .dataframe tbody tr th:only-of-type {\n",
       "        vertical-align: middle;\n",
       "    }\n",
       "\n",
       "    .dataframe tbody tr th {\n",
       "        vertical-align: top;\n",
       "    }\n",
       "\n",
       "    .dataframe thead th {\n",
       "        text-align: right;\n",
       "    }\n",
       "</style>\n",
       "<table border=\"1\" class=\"dataframe\">\n",
       "  <thead>\n",
       "    <tr style=\"text-align: right;\">\n",
       "      <th></th>\n",
       "      <th>uid</th>\n",
       "      <th>asin</th>\n",
       "      <th>title</th>\n",
       "      <th>stars</th>\n",
       "      <th>reviews</th>\n",
       "      <th>price</th>\n",
       "      <th>isBestSeller</th>\n",
       "      <th>boughtInLastMonth</th>\n",
       "      <th>category</th>\n",
       "    </tr>\n",
       "  </thead>\n",
       "  <tbody>\n",
       "    <tr>\n",
       "      <th>0</th>\n",
       "      <td>1</td>\n",
       "      <td>B09B96TG33</td>\n",
       "      <td>Echo Dot (5th generation, 2022 release) | Big ...</td>\n",
       "      <td>4.7</td>\n",
       "      <td>15308</td>\n",
       "      <td>21.99</td>\n",
       "      <td>False</td>\n",
       "      <td>0</td>\n",
       "      <td>Hi-Fi Speakers</td>\n",
       "    </tr>\n",
       "    <tr>\n",
       "      <th>1</th>\n",
       "      <td>2</td>\n",
       "      <td>B01HTH3C8S</td>\n",
       "      <td>Anker Soundcore mini, Super-Portable Bluetooth...</td>\n",
       "      <td>4.7</td>\n",
       "      <td>98099</td>\n",
       "      <td>23.99</td>\n",
       "      <td>True</td>\n",
       "      <td>0</td>\n",
       "      <td>Hi-Fi Speakers</td>\n",
       "    </tr>\n",
       "    <tr>\n",
       "      <th>2</th>\n",
       "      <td>3</td>\n",
       "      <td>B09B8YWXDF</td>\n",
       "      <td>Echo Dot (5th generation, 2022 release) | Big ...</td>\n",
       "      <td>4.7</td>\n",
       "      <td>15308</td>\n",
       "      <td>21.99</td>\n",
       "      <td>False</td>\n",
       "      <td>0</td>\n",
       "      <td>Hi-Fi Speakers</td>\n",
       "    </tr>\n",
       "    <tr>\n",
       "      <th>3</th>\n",
       "      <td>4</td>\n",
       "      <td>B09B8T5VGV</td>\n",
       "      <td>Echo Dot with clock (5th generation, 2022 rele...</td>\n",
       "      <td>4.7</td>\n",
       "      <td>7205</td>\n",
       "      <td>31.99</td>\n",
       "      <td>False</td>\n",
       "      <td>0</td>\n",
       "      <td>Hi-Fi Speakers</td>\n",
       "    </tr>\n",
       "    <tr>\n",
       "      <th>4</th>\n",
       "      <td>5</td>\n",
       "      <td>B09WX6QD65</td>\n",
       "      <td>Introducing Echo Pop | Full sound compact Wi-F...</td>\n",
       "      <td>4.6</td>\n",
       "      <td>1881</td>\n",
       "      <td>17.99</td>\n",
       "      <td>False</td>\n",
       "      <td>0</td>\n",
       "      <td>Hi-Fi Speakers</td>\n",
       "    </tr>\n",
       "  </tbody>\n",
       "</table>\n",
       "</div>"
      ],
      "text/plain": [
       "   uid        asin                                              title  stars  \\\n",
       "0    1  B09B96TG33  Echo Dot (5th generation, 2022 release) | Big ...    4.7   \n",
       "1    2  B01HTH3C8S  Anker Soundcore mini, Super-Portable Bluetooth...    4.7   \n",
       "2    3  B09B8YWXDF  Echo Dot (5th generation, 2022 release) | Big ...    4.7   \n",
       "3    4  B09B8T5VGV  Echo Dot with clock (5th generation, 2022 rele...    4.7   \n",
       "4    5  B09WX6QD65  Introducing Echo Pop | Full sound compact Wi-F...    4.6   \n",
       "\n",
       "   reviews  price  isBestSeller  boughtInLastMonth        category  \n",
       "0    15308  21.99         False                  0  Hi-Fi Speakers  \n",
       "1    98099  23.99          True                  0  Hi-Fi Speakers  \n",
       "2    15308  21.99         False                  0  Hi-Fi Speakers  \n",
       "3     7205  31.99         False                  0  Hi-Fi Speakers  \n",
       "4     1881  17.99         False                  0  Hi-Fi Speakers  "
      ]
     },
     "execution_count": 47,
     "metadata": {},
     "output_type": "execute_result"
    }
   ],
   "source": [
    "df.head()"
   ]
  },
  {
   "cell_type": "code",
   "execution_count": 58,
   "id": "d390e721-8b6c-4076-88dd-ade53a032278",
   "metadata": {},
   "outputs": [
    {
     "name": "stdout",
     "output_type": "stream",
     "text": [
      "<class 'pandas.core.frame.DataFrame'>\n",
      "RangeIndex: 2443651 entries, 0 to 2443650\n",
      "Data columns (total 9 columns):\n",
      " #   Column             Dtype  \n",
      "---  ------             -----  \n",
      " 0   uid                int64  \n",
      " 1   asin               object \n",
      " 2   title              object \n",
      " 3   stars              float64\n",
      " 4   reviews            int64  \n",
      " 5   price              float64\n",
      " 6   isBestSeller       bool   \n",
      " 7   boughtInLastMonth  int64  \n",
      " 8   category           object \n",
      "dtypes: bool(1), float64(2), int64(3), object(3)\n",
      "memory usage: 151.5+ MB\n"
     ]
    }
   ],
   "source": [
    "df.info()"
   ]
  },
  {
   "cell_type": "code",
   "execution_count": null,
   "id": "1f58a721-082a-4b17-ba21-eb27ed8798a8",
   "metadata": {},
   "outputs": [],
   "source": [
    "df.isnull().sum().sort_values(ascending=False)"
   ]
  },
  {
   "cell_type": "markdown",
   "id": "2800d23f-4234-4c94-bddd-b90c4d4fa14d",
   "metadata": {},
   "source": [
    "**1. Frequency Tables:**"
   ]
  },
  {
   "cell_type": "code",
   "execution_count": null,
   "id": "75bd9956-11a4-4671-95eb-579c899059ef",
   "metadata": {},
   "outputs": [],
   "source": [
    "unique_categories = df['category'].unique()\n",
    "print(unique_categories)"
   ]
  },
  {
   "cell_type": "code",
   "execution_count": null,
   "id": "2026148f-722d-473f-8e57-92f6992b1ad6",
   "metadata": {},
   "outputs": [],
   "source": [
    "frequency_table = df['category'].value_counts()\n",
    "print(frequency_table)"
   ]
  },
  {
   "cell_type": "code",
   "execution_count": null,
   "id": "81412dca-16e9-46c3-bebf-5a7525662b91",
   "metadata": {},
   "outputs": [],
   "source": [
    "top5_categories = df['category'].value_counts().head(5)\n",
    "print(top5_categories)"
   ]
  },
  {
   "cell_type": "markdown",
   "id": "97a400e3-e20d-4d6c-9829-84fdfb5c4586",
   "metadata": {},
   "source": [
    "**2. Visualizations:**"
   ]
  },
  {
   "cell_type": "code",
   "execution_count": 18,
   "id": "c82cbf17-a7ff-429f-a87b-c28378319244",
   "metadata": {},
   "outputs": [
    {
     "data": {
      "image/png": "[encoded data removed]",
      "text/plain": [
       "<Figure size 800x600 with 1 Axes>"
      ]
     },
     "metadata": {},
     "output_type": "display_data"
    }
   ],
   "source": [
    "plt.figure(figsize=(8, 6))  # Set the size of the plot\n",
    "cmap = plt.colormaps['Greys']  # Access the 'Greys' colormap\n",
    "colors = [cmap(0.3 + (0.3 * (i / len(top5_categories.index)))) for i in range(len(top5_categories.index))]\n",
    "plt.bar(top5_categories.index, top5_categories.values, color=colors)  # Create the bar chart\n",
    "plt.title('Top 5 Categories by Frequency')  # Add a title\n",
    "plt.xlabel('Category')  # Label x-axis\n",
    "plt.ylabel('Frequency')  # Label y-axis\n",
    "plt.xticks(rotation=45, ha='right')\n",
    "plt.grid(axis='y', linestyle='--', alpha=0.2) # show grid\n",
    "plt.show()"
   ]
  },
  {
   "cell_type": "code",
   "execution_count": 24,
   "id": "d68fa99a-f96a-4d2f-92ff-ee01c22869f1",
   "metadata": {},
   "outputs": [
    {
     "data": {
      "image/png": "[encoded data removed]",
      "text/plain": [
       "<Figure size 800x800 with 1 Axes>"
      ]
     },
     "metadata": {},
     "output_type": "display_data"
    }
   ],
   "source": [
    "plt.figure(figsize=(8, 8)) \n",
    "plt.pie(top5_categories.values, labels=top5_categories.index, colors=sns.color_palette(\"pastel\"), autopct='%1.1f%%', startangle=0);"
   ]
  },
  {
   "cell_type": "markdown",
   "id": "586d74bd-45ab-4dd3-822f-4f89fe06a387",
   "metadata": {},
   "source": [
    "Sports & Outdoors with te 91.6% of values dominates the \"Category\" listing          "
   ]
  },
  {
   "cell_type": "markdown",
   "id": "2a4d47c7-dfb6-4107-8989-803f3864a853",
   "metadata": {},
   "source": [
    "**PART 2:** Delving into Product Pricing"
   ]
  },
  {
   "cell_type": "markdown",
   "id": "956aab8e-bddb-41d8-993a-5d7a68626af8",
   "metadata": {},
   "source": [
    "**1. Measures of Centrality:**"
   ]
  },
  {
   "cell_type": "code",
   "execution_count": 49,
   "id": "c8239c19-dffb-4234-a344-a6e137d6334c",
   "metadata": {},
   "outputs": [
    {
     "data": {
      "text/html": [
       "<div>\n",
       "<style scoped>\n",
       "    .dataframe tbody tr th:only-of-type {\n",
       "        vertical-align: middle;\n",
       "    }\n",
       "\n",
       "    .dataframe tbody tr th {\n",
       "        vertical-align: top;\n",
       "    }\n",
       "\n",
       "    .dataframe thead th {\n",
       "        text-align: right;\n",
       "    }\n",
       "</style>\n",
       "<table border=\"1\" class=\"dataframe\">\n",
       "  <thead>\n",
       "    <tr style=\"text-align: right;\">\n",
       "      <th></th>\n",
       "      <th>Centrality</th>\n",
       "      <th>Value</th>\n",
       "    </tr>\n",
       "  </thead>\n",
       "  <tbody>\n",
       "    <tr>\n",
       "      <th>0</th>\n",
       "      <td>Mean</td>\n",
       "      <td>89.243809</td>\n",
       "    </tr>\n",
       "    <tr>\n",
       "      <th>1</th>\n",
       "      <td>Median</td>\n",
       "      <td>19.090000</td>\n",
       "    </tr>\n",
       "    <tr>\n",
       "      <th>2</th>\n",
       "      <td>Mode</td>\n",
       "      <td>9.990000</td>\n",
       "    </tr>\n",
       "  </tbody>\n",
       "</table>\n",
       "</div>"
      ],
      "text/plain": [
       "  Centrality      Value\n",
       "0       Mean  89.243809\n",
       "1     Median  19.090000\n",
       "2       Mode   9.990000"
      ]
     },
     "execution_count": 49,
     "metadata": {},
     "output_type": "execute_result"
    }
   ],
   "source": [
    "centrality = [df[\"price\"].mean(), df[\"price\"].median(), df[\"price\"].mode().iloc[0]]  # use .iloc[0] for the first mode value\n",
    "stat_labels = [\"Mean\", \"Median\", \"Mode\"]\n",
    "df_centrality = pd.DataFrame({'Centrality': stat_labels,'Value': centrality})\n",
    "df_centrality"
   ]
  },
  {
   "cell_type": "markdown",
   "id": "e87ed56b-1ccf-44a5-8115-ecbf5e606a54",
   "metadata": {},
   "source": [
    "The mean is nearly 9 times greater than the mode, indicating that there are a few items with significantly higher prices compared to the majority. This disparity is further highlighted by the median, where the mean exceeds it by more than 4 times. This demonstrates that the data is heavily skewed by a small number of items with exceptionally high prices."
   ]
  },
  {
   "cell_type": "markdown",
   "id": "5375c03e-b495-4095-9a2b-64125c5eab12",
   "metadata": {},
   "source": [
    "**2. Measures of Dispersion:**"
   ]
  },
  {
   "cell_type": "code",
   "execution_count": 98,
   "id": "4d9fa13a-7e4f-4958-b66d-575a1d2b3c8f",
   "metadata": {},
   "outputs": [],
   "source": [
    "std = round(df[\"price\"].std(), 2)\n",
    "var = round(df[\"price\"].var(), 2)\n",
    "range_val = round(df[\"price\"].max() - df[\"price\"].min(), 2)  # renamed range to range_val to avoid overwriting built-in function\n",
    "q1 = round(df['price'].quantile(0.25), 2)\n",
    "q3 = round(df['price'].quantile(0.75), 2)\n",
    "iqr = round(q3 - q1, 2)"
   ]
  },
  {
   "cell_type": "code",
   "execution_count": 100,
   "id": "ed0ca83d-8b84-460e-95c3-736219ddccaa",
   "metadata": {},
   "outputs": [
    {
     "data": {
      "text/html": [
       "<div>\n",
       "<style scoped>\n",
       "    .dataframe tbody tr th:only-of-type {\n",
       "        vertical-align: middle;\n",
       "    }\n",
       "\n",
       "    .dataframe tbody tr th {\n",
       "        vertical-align: top;\n",
       "    }\n",
       "\n",
       "    .dataframe thead th {\n",
       "        text-align: right;\n",
       "    }\n",
       "</style>\n",
       "<table border=\"1\" class=\"dataframe\">\n",
       "  <thead>\n",
       "    <tr style=\"text-align: right;\">\n",
       "      <th></th>\n",
       "      <th>Dispersion</th>\n",
       "      <th>Value</th>\n",
       "    </tr>\n",
       "  </thead>\n",
       "  <tbody>\n",
       "    <tr>\n",
       "      <th>0</th>\n",
       "      <td>Standar Deviation</td>\n",
       "      <td>345.61</td>\n",
       "    </tr>\n",
       "    <tr>\n",
       "      <th>1</th>\n",
       "      <td>Variance</td>\n",
       "      <td>119445.49</td>\n",
       "    </tr>\n",
       "    <tr>\n",
       "      <th>2</th>\n",
       "      <td>Range</td>\n",
       "      <td>100000.00</td>\n",
       "    </tr>\n",
       "    <tr>\n",
       "      <th>3</th>\n",
       "      <td>Q1</td>\n",
       "      <td>9.99</td>\n",
       "    </tr>\n",
       "    <tr>\n",
       "      <th>4</th>\n",
       "      <td>Q3</td>\n",
       "      <td>45.99</td>\n",
       "    </tr>\n",
       "    <tr>\n",
       "      <th>5</th>\n",
       "      <td>IQR</td>\n",
       "      <td>36.00</td>\n",
       "    </tr>\n",
       "  </tbody>\n",
       "</table>\n",
       "</div>"
      ],
      "text/plain": [
       "          Dispersion      Value\n",
       "0  Standar Deviation     345.61\n",
       "1           Variance  119445.49\n",
       "2              Range  100000.00\n",
       "3                 Q1       9.99\n",
       "4                 Q3      45.99\n",
       "5                IQR      36.00"
      ]
     },
     "execution_count": 100,
     "metadata": {},
     "output_type": "execute_result"
    }
   ],
   "source": [
    "dispersion = [std, var, range, q1, q3, iqr]  # use .iloc[0] for the first mode value\n",
    "stat_labels = [\"Standar Deviation\", \"Variance\", \"Range\", \"Q1\", \"Q3\", \"IQR\"]\n",
    "df_dispersion = pd.DataFrame({'Dispersion': stat_labels,'Value': dispersion})\n",
    "df_dispersion"
   ]
  },
  {
   "cell_type": "markdown",
   "id": "b30420e7-f731-4368-bbcb-97e8e6d8f885",
   "metadata": {},
   "source": [
    "Are quite varied, range for example shows a 100.000 diffrerence between max and min values. While the overall spread is large, the IQR = 36 suggests that in the central bulk (50%) of the data, prices don't vary as much as the overall range might imply."
   ]
  },
  {
   "cell_type": "markdown",
   "id": "c1cc72fd-954e-4c63-8b47-6d3fc3d5c465",
   "metadata": {},
   "source": [
    "**3. Visualizations:**"
   ]
  },
  {
   "cell_type": "code",
   "execution_count": 32,
   "id": "eed1db6d-5cf7-4cf7-b3a6-c914cd019974",
   "metadata": {},
   "outputs": [
    {
     "data": {
      "image/png": "[encoded data removed]",
      "text/plain": [
       "<Figure size 1000x600 with 1 Axes>"
      ]
     },
     "metadata": {},
     "output_type": "display_data"
    }
   ],
   "source": [
    "plt.figure(figsize=(10, 6))  # Set the size of the plot\n",
    "plt.hist(df['price'], bins=100, color='skyblue', edgecolor='black')  # Create histogram\n",
    "plt.title('Histogram of Prices')\n",
    "plt.xlabel('Price')\n",
    "plt.ylabel('Frequency')\n",
    "plt.show()\n",
    "\n",
    "# The dataset is challenging to interpret, as the majority of prices cluster tightly between 0 and 20 €, with a few extreme outliers reaching up to 100,000 €.\n",
    "# This issue could be addressed by removing these outliers or by categorizing the data into defined price ranges, such as [0-9.99], [10-19.99], [20-29.99], and [30-max].\n",
    "# These adjustments could enhance clarity and reveal deeper insights into the pricing structure.\""
   ]
  },
  {
   "cell_type": "code",
   "execution_count": 38,
   "id": "50b80734-8613-4295-8323-e001df6652a5",
   "metadata": {},
   "outputs": [
    {
     "data": {
      "image/png": "[encoded data removed]",
      "text/plain": [
       "<Figure size 1200x900 with 1 Axes>"
      ]
     },
     "metadata": {},
     "output_type": "display_data"
    }
   ],
   "source": [
    "plt.figure(figsize=(12, 9))\n",
    "sns.boxplot(y=df['price'], color='skyblue')\n",
    "plt.title('Box Plot of Prices')\n",
    "plt.ylabel('Price')\n",
    "plt.show()"
   ]
  },
  {
   "cell_type": "markdown",
   "id": "2781e6e1-369a-4de7-b299-c84bc93f0b53",
   "metadata": {},
   "source": [
    "**PART 3:** Unpacking Product Ratings"
   ]
  },
  {
   "cell_type": "markdown",
   "id": "a7a031a2-5c79-4010-bb5d-ff14198d199b",
   "metadata": {},
   "source": [
    "**1. Measures of Centrality:**"
   ]
  },
  {
   "cell_type": "code",
   "execution_count": null,
   "id": "e5d93c19-5255-4e4e-b443-8eadf86b7ecd",
   "metadata": {},
   "outputs": [],
   "source": [
    "rating_freq = df['stars'].value_counts()\n",
    "print(rating_freq)"
   ]
  },
  {
   "cell_type": "code",
   "execution_count": 95,
   "id": "cbf7a133-08ed-431d-9182-c069944c4580",
   "metadata": {},
   "outputs": [
    {
     "data": {
      "text/html": [
       "<div>\n",
       "<style scoped>\n",
       "    .dataframe tbody tr th:only-of-type {\n",
       "        vertical-align: middle;\n",
       "    }\n",
       "\n",
       "    .dataframe tbody tr th {\n",
       "        vertical-align: top;\n",
       "    }\n",
       "\n",
       "    .dataframe thead th {\n",
       "        text-align: right;\n",
       "    }\n",
       "</style>\n",
       "<table border=\"1\" class=\"dataframe\">\n",
       "  <thead>\n",
       "    <tr style=\"text-align: right;\">\n",
       "      <th></th>\n",
       "      <th>Centrality</th>\n",
       "      <th>Value</th>\n",
       "    </tr>\n",
       "  </thead>\n",
       "  <tbody>\n",
       "    <tr>\n",
       "      <th>0</th>\n",
       "      <td>Mean</td>\n",
       "      <td>2.152836</td>\n",
       "    </tr>\n",
       "    <tr>\n",
       "      <th>1</th>\n",
       "      <td>Median</td>\n",
       "      <td>0.000000</td>\n",
       "    </tr>\n",
       "    <tr>\n",
       "      <th>2</th>\n",
       "      <td>Mode</td>\n",
       "      <td>0.000000</td>\n",
       "    </tr>\n",
       "  </tbody>\n",
       "</table>\n",
       "</div>"
      ],
      "text/plain": [
       "  Centrality     Value\n",
       "0       Mean  2.152836\n",
       "1     Median  0.000000\n",
       "2       Mode  0.000000"
      ]
     },
     "execution_count": 95,
     "metadata": {},
     "output_type": "execute_result"
    }
   ],
   "source": [
    "centrality_rating = [df[\"stars\"].mean(), df[\"stars\"].median(), df[\"stars\"].mode().iloc[0]]  # use .iloc[0] for the first mode value\n",
    "stat_labels = [\"Mean\", \"Median\", \"Mode\"]\n",
    "df_centrality_rating = pd.DataFrame({'Centrality': stat_labels,'Value': centrality_rating})\n",
    "df_centrality_rating"
   ]
  },
  {
   "cell_type": "code",
   "execution_count": 99,
   "id": "0695421b-f42d-4873-831c-a02f31758f91",
   "metadata": {},
   "outputs": [
    {
     "data": {
      "text/html": [
       "<div>\n",
       "<style scoped>\n",
       "    .dataframe tbody tr th:only-of-type {\n",
       "        vertical-align: middle;\n",
       "    }\n",
       "\n",
       "    .dataframe tbody tr th {\n",
       "        vertical-align: top;\n",
       "    }\n",
       "\n",
       "    .dataframe thead th {\n",
       "        text-align: right;\n",
       "    }\n",
       "</style>\n",
       "<table border=\"1\" class=\"dataframe\">\n",
       "  <thead>\n",
       "    <tr style=\"text-align: right;\">\n",
       "      <th></th>\n",
       "      <th>uid</th>\n",
       "      <th>asin</th>\n",
       "      <th>title</th>\n",
       "      <th>stars</th>\n",
       "      <th>reviews</th>\n",
       "      <th>price</th>\n",
       "      <th>isBestSeller</th>\n",
       "      <th>boughtInLastMonth</th>\n",
       "      <th>category</th>\n",
       "    </tr>\n",
       "  </thead>\n",
       "  <tbody>\n",
       "    <tr>\n",
       "      <th>0</th>\n",
       "      <td>1</td>\n",
       "      <td>B09B96TG33</td>\n",
       "      <td>Echo Dot (5th generation, 2022 release) | Big ...</td>\n",
       "      <td>4.7</td>\n",
       "      <td>15308</td>\n",
       "      <td>21.99</td>\n",
       "      <td>False</td>\n",
       "      <td>0</td>\n",
       "      <td>Hi-Fi Speakers</td>\n",
       "    </tr>\n",
       "    <tr>\n",
       "      <th>1</th>\n",
       "      <td>2</td>\n",
       "      <td>B01HTH3C8S</td>\n",
       "      <td>Anker Soundcore mini, Super-Portable Bluetooth...</td>\n",
       "      <td>4.7</td>\n",
       "      <td>98099</td>\n",
       "      <td>23.99</td>\n",
       "      <td>True</td>\n",
       "      <td>0</td>\n",
       "      <td>Hi-Fi Speakers</td>\n",
       "    </tr>\n",
       "    <tr>\n",
       "      <th>2</th>\n",
       "      <td>3</td>\n",
       "      <td>B09B8YWXDF</td>\n",
       "      <td>Echo Dot (5th generation, 2022 release) | Big ...</td>\n",
       "      <td>4.7</td>\n",
       "      <td>15308</td>\n",
       "      <td>21.99</td>\n",
       "      <td>False</td>\n",
       "      <td>0</td>\n",
       "      <td>Hi-Fi Speakers</td>\n",
       "    </tr>\n",
       "    <tr>\n",
       "      <th>3</th>\n",
       "      <td>4</td>\n",
       "      <td>B09B8T5VGV</td>\n",
       "      <td>Echo Dot with clock (5th generation, 2022 rele...</td>\n",
       "      <td>4.7</td>\n",
       "      <td>7205</td>\n",
       "      <td>31.99</td>\n",
       "      <td>False</td>\n",
       "      <td>0</td>\n",
       "      <td>Hi-Fi Speakers</td>\n",
       "    </tr>\n",
       "    <tr>\n",
       "      <th>4</th>\n",
       "      <td>5</td>\n",
       "      <td>B09WX6QD65</td>\n",
       "      <td>Introducing Echo Pop | Full sound compact Wi-F...</td>\n",
       "      <td>4.6</td>\n",
       "      <td>1881</td>\n",
       "      <td>17.99</td>\n",
       "      <td>False</td>\n",
       "      <td>0</td>\n",
       "      <td>Hi-Fi Speakers</td>\n",
       "    </tr>\n",
       "  </tbody>\n",
       "</table>\n",
       "</div>"
      ],
      "text/plain": [
       "   uid        asin                                              title  stars  \\\n",
       "0    1  B09B96TG33  Echo Dot (5th generation, 2022 release) | Big ...    4.7   \n",
       "1    2  B01HTH3C8S  Anker Soundcore mini, Super-Portable Bluetooth...    4.7   \n",
       "2    3  B09B8YWXDF  Echo Dot (5th generation, 2022 release) | Big ...    4.7   \n",
       "3    4  B09B8T5VGV  Echo Dot with clock (5th generation, 2022 rele...    4.7   \n",
       "4    5  B09WX6QD65  Introducing Echo Pop | Full sound compact Wi-F...    4.6   \n",
       "\n",
       "   reviews  price  isBestSeller  boughtInLastMonth        category  \n",
       "0    15308  21.99         False                  0  Hi-Fi Speakers  \n",
       "1    98099  23.99          True                  0  Hi-Fi Speakers  \n",
       "2    15308  21.99         False                  0  Hi-Fi Speakers  \n",
       "3     7205  31.99         False                  0  Hi-Fi Speakers  \n",
       "4     1881  17.99         False                  0  Hi-Fi Speakers  "
      ]
     },
     "execution_count": 99,
     "metadata": {},
     "output_type": "execute_result"
    }
   ],
   "source": [
    "df_no_zero = df[df['stars'] != 0]\n",
    "df_no_zero.head()"
   ]
  },
  {
   "cell_type": "code",
   "execution_count": 70,
   "id": "8d589a4b-9588-4443-a278-2fbdaf45bc4e",
   "metadata": {},
   "outputs": [
    {
     "data": {
      "text/html": [
       "<div>\n",
       "<style scoped>\n",
       "    .dataframe tbody tr th:only-of-type {\n",
       "        vertical-align: middle;\n",
       "    }\n",
       "\n",
       "    .dataframe tbody tr th {\n",
       "        vertical-align: top;\n",
       "    }\n",
       "\n",
       "    .dataframe thead th {\n",
       "        text-align: right;\n",
       "    }\n",
       "</style>\n",
       "<table border=\"1\" class=\"dataframe\">\n",
       "  <thead>\n",
       "    <tr style=\"text-align: right;\">\n",
       "      <th></th>\n",
       "      <th>Centrality</th>\n",
       "      <th>Value</th>\n",
       "    </tr>\n",
       "  </thead>\n",
       "  <tbody>\n",
       "    <tr>\n",
       "      <th>0</th>\n",
       "      <td>Mean</td>\n",
       "      <td>4.319161</td>\n",
       "    </tr>\n",
       "    <tr>\n",
       "      <th>1</th>\n",
       "      <td>Median</td>\n",
       "      <td>4.400000</td>\n",
       "    </tr>\n",
       "    <tr>\n",
       "      <th>2</th>\n",
       "      <td>Mode</td>\n",
       "      <td>4.500000</td>\n",
       "    </tr>\n",
       "  </tbody>\n",
       "</table>\n",
       "</div>"
      ],
      "text/plain": [
       "  Centrality     Value\n",
       "0       Mean  4.319161\n",
       "1     Median  4.400000\n",
       "2       Mode  4.500000"
      ]
     },
     "execution_count": 70,
     "metadata": {},
     "output_type": "execute_result"
    }
   ],
   "source": [
    "centrality_rating = [df_no_zero[\"stars\"].mean(), df_no_zero[\"stars\"].median(), df_no_zero[\"stars\"].mode().iloc[0]]  # use .iloc[0] for the first mode value\n",
    "stat_labels = [\"Mean\", \"Median\", \"Mode\"]\n",
    "df_centrality_rating_no_zero = pd.DataFrame({'Centrality': stat_labels,'Value': centrality_rating})\n",
    "df_centrality_rating_no_zero"
   ]
  },
  {
   "cell_type": "code",
   "execution_count": null,
   "id": "09b4531e-c860-47ab-b4ca-b69118f53a13",
   "metadata": {},
   "outputs": [],
   "source": [
    "# When excluding zero values, most product ratings exceed 4 stars, with a median of 4.4 and a mean of 4.3."
   ]
  },
  {
   "cell_type": "markdown",
   "id": "e47428c3-ae7a-40b7-9e38-3d35d489dd48",
   "metadata": {},
   "source": [
    "**2. Measures of Dispersion:**"
   ]
  },
  {
   "cell_type": "code",
   "execution_count": 105,
   "id": "4be9c339-a75d-47a2-a109-4497e1b365b9",
   "metadata": {},
   "outputs": [],
   "source": [
    "std_stars = round(df_no_zero[\"stars\"].std(), 2)\n",
    "var_stars = round(df_no_zero[\"stars\"].var(), 2)\n",
    "range_val_stars = round(df_no_zero[\"stars\"].max() - df_no_zero[\"stars\"].min(), 2) \n",
    "q1_stars = round(df_no_zero['stars'].quantile(0.25), 2)\n",
    "q3_stars = round(df_no_zero['stars'].quantile(0.75), 2)\n",
    "iqr_stars = round(q3_stars - q1_stars, 2)"
   ]
  },
  {
   "cell_type": "code",
   "execution_count": 109,
   "id": "3e5f0f3d-90e8-4a52-be9d-fdb5c3c3668c",
   "metadata": {},
   "outputs": [
    {
     "data": {
      "text/html": [
       "<div>\n",
       "<style scoped>\n",
       "    .dataframe tbody tr th:only-of-type {\n",
       "        vertical-align: middle;\n",
       "    }\n",
       "\n",
       "    .dataframe tbody tr th {\n",
       "        vertical-align: top;\n",
       "    }\n",
       "\n",
       "    .dataframe thead th {\n",
       "        text-align: right;\n",
       "    }\n",
       "</style>\n",
       "<table border=\"1\" class=\"dataframe\">\n",
       "  <thead>\n",
       "    <tr style=\"text-align: right;\">\n",
       "      <th></th>\n",
       "      <th>Dispersion</th>\n",
       "      <th>Value</th>\n",
       "    </tr>\n",
       "  </thead>\n",
       "  <tbody>\n",
       "    <tr>\n",
       "      <th>0</th>\n",
       "      <td>Standar Deviation</td>\n",
       "      <td>0.56</td>\n",
       "    </tr>\n",
       "    <tr>\n",
       "      <th>1</th>\n",
       "      <td>Variance</td>\n",
       "      <td>0.31</td>\n",
       "    </tr>\n",
       "    <tr>\n",
       "      <th>2</th>\n",
       "      <td>Range</td>\n",
       "      <td>4.00</td>\n",
       "    </tr>\n",
       "    <tr>\n",
       "      <th>3</th>\n",
       "      <td>Q1</td>\n",
       "      <td>4.10</td>\n",
       "    </tr>\n",
       "    <tr>\n",
       "      <th>4</th>\n",
       "      <td>Q3</td>\n",
       "      <td>4.60</td>\n",
       "    </tr>\n",
       "    <tr>\n",
       "      <th>5</th>\n",
       "      <td>IQR</td>\n",
       "      <td>0.50</td>\n",
       "    </tr>\n",
       "  </tbody>\n",
       "</table>\n",
       "</div>"
      ],
      "text/plain": [
       "          Dispersion  Value\n",
       "0  Standar Deviation   0.56\n",
       "1           Variance   0.31\n",
       "2              Range   4.00\n",
       "3                 Q1   4.10\n",
       "4                 Q3   4.60\n",
       "5                IQR   0.50"
      ]
     },
     "execution_count": 109,
     "metadata": {},
     "output_type": "execute_result"
    }
   ],
   "source": [
    "dispersion_stars = [std_stars, var_stars, range_val_stars, q1_stars, q3_stars, iqr_stars]  # use .iloc[0] for the first mode value\n",
    "stat_labels = [\"Standar Deviation\", \"Variance\", \"Range\", \"Q1\", \"Q3\", \"IQR\"]\n",
    "df_dispersion_stars = pd.DataFrame({'Dispersion': stat_labels,'Value': dispersion_stars})\n",
    "df_dispersion_stars"
   ]
  },
  {
   "cell_type": "code",
   "execution_count": 111,
   "id": "4fc66949-d62d-4240-8434-d11d9aea80f0",
   "metadata": {},
   "outputs": [],
   "source": [
    "# The ratings demonstrate consistency, evidenced by a low standard deviation of 0.56"
   ]
  },
  {
   "cell_type": "markdown",
   "id": "779eecdd-9b2f-4ae8-b57d-64fe5afa40e2",
   "metadata": {},
   "source": [
    "**3. Shape of Distribution:**"
   ]
  },
  {
   "cell_type": "code",
   "execution_count": 117,
   "id": "f62c0e5c-0810-4088-b485-ccc1b343d44f",
   "metadata": {},
   "outputs": [
    {
     "data": {
      "text/plain": [
       "-2.3795651817332506"
      ]
     },
     "execution_count": 117,
     "metadata": {},
     "output_type": "execute_result"
    }
   ],
   "source": [
    "skewness_value = skew(df_no_zero['stars'])\n",
    "skewness_value"
   ]
  },
  {
   "cell_type": "code",
   "execution_count": 119,
   "id": "4f7cbbf4-17ad-4130-8d52-0a7ffd08c797",
   "metadata": {},
   "outputs": [
    {
     "data": {
      "text/plain": [
       "9.781892609238655"
      ]
     },
     "execution_count": 119,
     "metadata": {},
     "output_type": "execute_result"
    }
   ],
   "source": [
    "kurtosis_value = kurtosis(df_no_zero['stars'])\n",
    "kurtosis_value"
   ]
  },
  {
   "cell_type": "code",
   "execution_count": null,
   "id": "e6727f9e-ff60-49f1-9cfe-773f1e36bd42",
   "metadata": {},
   "outputs": [],
   "source": [
    "# The combined skewness and high kurtosis indicate that the rating distribution is not normal.\n",
    "# The ratings are concentrated towards higher values, with a few outliers that significantly lower the ratings."
   ]
  },
  {
   "cell_type": "code",
   "execution_count": 123,
   "id": "1731630a-9e31-48f1-9879-b3b7864ebc5f",
   "metadata": {},
   "outputs": [
    {
     "data": {
      "text/plain": [
       "uid                                                            2828593\n",
       "asin                                                        B0CKW6ZS7H\n",
       "title                🟤 Aksoy Brown Whole Flaxseed (Linseed) 650gr |...\n",
       "stars                                                              5.0\n",
       "reviews                                                        1356658\n",
       "price                                                          19990.0\n",
       "isBestSeller                                                      True\n",
       "boughtInLastMonth                                                50000\n",
       "category                                   eBook Readers & Accessories\n",
       "dtype: object"
      ]
     },
     "execution_count": 123,
     "metadata": {},
     "output_type": "execute_result"
    }
   ],
   "source": [
    "df_no_zero.max()"
   ]
  },
  {
   "cell_type": "code",
   "execution_count": 133,
   "id": "9f7eff34-b955-4971-8992-f03bd93ef298",
   "metadata": {},
   "outputs": [
    {
     "data": {
      "image/png": "[encoded data removed]",
      "text/plain": [
       "<Figure size 1000x600 with 1 Axes>"
      ]
     },
     "metadata": {},
     "output_type": "display_data"
    }
   ],
   "source": [
    "plt.figure(figsize=(10, 6))\n",
    "sns.histplot(df_no_zero['stars'], bins=10, color='grey', kde=False, edgecolor='black')\n",
    "plt.title('Distribution of Product Ratings')\n",
    "plt.xlabel('Rating')\n",
    "plt.ylabel('Frequency')\n",
    "plt.show()"
   ]
  },
  {
   "cell_type": "code",
   "execution_count": null,
   "id": "fa61764f-9052-4cdb-9abb-5b19e607299d",
   "metadata": {},
   "outputs": [],
   "source": [
    "# Is there a specific rating that is more common? 4.5"
   ]
  }
 ],
 "metadata": {
  "kernelspec": {
   "display_name": "Python 3 (ipykernel)",
   "language": "python",
   "name": "python3"
  },
  "language_info": {
   "codemirror_mode": {
    "name": "ipython",
    "version": 3
   },
   "file_extension": ".py",
   "mimetype": "text/x-python",
   "name": "python",
   "nbconvert_exporter": "python",
   "pygments_lexer": "ipython3",
   "version": "3.12.3"
  }
 },
 "nbformat": 4,
 "nbformat_minor": 5
}
